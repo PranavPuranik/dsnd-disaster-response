{
 "cells": [
  {
   "cell_type": "markdown",
   "metadata": {},
   "source": [
    "# ML Pipeline Preparation\n",
    "Follow the instructions below to help you create your ML pipeline.\n",
    "### 1. Import libraries and load data from database.\n",
    "- Import Python libraries\n",
    "- Load dataset from database with [`read_sql_table`](https://pandas.pydata.org/pandas-docs/stable/generated/pandas.read_sql_table.html)\n",
    "- Define feature and target variables X and Y"
   ]
  },
  {
   "cell_type": "code",
   "execution_count": 49,
   "metadata": {},
   "outputs": [
    {
     "name": "stdout",
     "output_type": "stream",
     "text": [
      "[nltk_data] Downloading package punkt to\n",
      "[nltk_data]     C:\\Users\\bonano1m\\AppData\\Roaming\\nltk_data...\n",
      "[nltk_data]   Package punkt is already up-to-date!\n",
      "[nltk_data] Downloading package wordnet to\n",
      "[nltk_data]     C:\\Users\\bonano1m\\AppData\\Roaming\\nltk_data...\n",
      "[nltk_data]   Package wordnet is already up-to-date!\n",
      "[nltk_data] Downloading package averaged_perceptron_tagger to\n",
      "[nltk_data]     C:\\Users\\bonano1m\\AppData\\Roaming\\nltk_data...\n",
      "[nltk_data]   Package averaged_perceptron_tagger is already up-to-\n",
      "[nltk_data]       date!\n"
     ]
    },
    {
     "data": {
      "text/plain": [
       "True"
      ]
     },
     "execution_count": 49,
     "metadata": {},
     "output_type": "execute_result"
    }
   ],
   "source": [
    "# import libraries\n",
    "import pandas as pd\n",
    "import numpy as np\n",
    "import os\n",
    "import pickle\n",
    "from sqlalchemy import create_engine\n",
    "import re\n",
    "import nltk\n",
    "from sklearn.base import BaseEstimator, TransformerMixin\n",
    "from sklearn.model_selection import train_test_split\n",
    "from sklearn.multioutput import MultiOutputClassifier\n",
    "from sklearn.ensemble import RandomForestClassifier, GradientBoostingClassifier\n",
    "from sklearn.feature_extraction.text import CountVectorizer, TfidfTransformer\n",
    "from nltk.tokenize import word_tokenize\n",
    "from nltk.stem import WordNetLemmatizer\n",
    "from sklearn.pipeline import Pipeline, FeatureUnion\n",
    "from sklearn.model_selection import GridSearchCV\n",
    "from sklearn.metrics import make_scorer, accuracy_score, mean_squared_error, classification_report\n",
    "\n",
    "nltk.download(['punkt', 'wordnet', 'averaged_perceptron_tagger'])"
   ]
  },
  {
   "cell_type": "code",
   "execution_count": 50,
   "metadata": {},
   "outputs": [],
   "source": [
    "# load data from database\n",
    "cwd = os.getcwd()\n",
    "dbwd = cwd.replace('/models','/data/').replace('\\\\models','\\\\data\\\\')\n",
    "engine = create_engine('sqlite:///'+dbwd+'DisasterResponse.db')\n",
    "df = pd.read_sql_table('df',engine)\n",
    "X = df[['message','direct','news']]\n",
    "Y = df.iloc[:,range(-3,-39,-1)]"
   ]
  },
  {
   "cell_type": "code",
   "execution_count": 51,
   "metadata": {},
   "outputs": [
    {
     "data": {
      "text/plain": [
       "(26216, 41)"
      ]
     },
     "execution_count": 51,
     "metadata": {},
     "output_type": "execute_result"
    }
   ],
   "source": [
    "df.shape"
   ]
  },
  {
   "cell_type": "code",
   "execution_count": 52,
   "metadata": {},
   "outputs": [
    {
     "name": "stdout",
     "output_type": "stream",
     "text": [
      "['id' 'message' 'original' 'related' 'request' 'offer' 'aid_related'\n",
      " 'medical_help' 'medical_products' 'search_and_rescue' 'security'\n",
      " 'military' 'child_alone' 'water' 'food' 'shelter' 'clothing' 'money'\n",
      " 'missing_people' 'refugees' 'death' 'other_aid' 'infrastructure_related'\n",
      " 'transport' 'buildings' 'electricity' 'tools' 'hospitals' 'shops'\n",
      " 'aid_centers' 'other_infrastructure' 'weather_related' 'floods' 'storm'\n",
      " 'fire' 'earthquake' 'cold' 'other_weather' 'direct_report' 'direct'\n",
      " 'news']\n"
     ]
    }
   ],
   "source": [
    "print(df.columns.values)"
   ]
  },
  {
   "cell_type": "code",
   "execution_count": 53,
   "metadata": {},
   "outputs": [
    {
     "name": "stdout",
     "output_type": "stream",
     "text": [
      "['direct_report' 'other_weather' 'cold' 'earthquake' 'fire' 'storm'\n",
      " 'floods' 'weather_related' 'other_infrastructure' 'aid_centers' 'shops'\n",
      " 'hospitals' 'tools' 'electricity' 'buildings' 'transport'\n",
      " 'infrastructure_related' 'other_aid' 'death' 'refugees' 'missing_people'\n",
      " 'money' 'clothing' 'shelter' 'food' 'water' 'child_alone' 'military'\n",
      " 'security' 'search_and_rescue' 'medical_products' 'medical_help'\n",
      " 'aid_related' 'offer' 'request' 'related']\n"
     ]
    }
   ],
   "source": [
    "print(Y.columns.values)"
   ]
  },
  {
   "cell_type": "markdown",
   "metadata": {},
   "source": [
    "### 2. Write a tokenization function to process your text data"
   ]
  },
  {
   "cell_type": "code",
   "execution_count": 54,
   "metadata": {},
   "outputs": [],
   "source": [
    "def tokenize(text):\n",
    "    url_regex = 'http[s]?://(?:[a-zA-Z]|[0-9]|[$-_@.&+]|[!*\\(\\),]|(?:%[0-9a-fA-F][0-9a-fA-F]))+'\n",
    "    detected_urls = re.findall(url_regex, text)\n",
    "    for url in detected_urls:\n",
    "        text = text.replace(url, \"urlplaceholder\")\n",
    "\n",
    "    tokens = word_tokenize(text)\n",
    "    lemmatizer = WordNetLemmatizer()\n",
    "\n",
    "    clean_tokens = []\n",
    "    for tok in tokens:\n",
    "        clean_tok = lemmatizer.lemmatize(tok).lower().strip()\n",
    "        clean_tokens.append(clean_tok)\n",
    "\n",
    "    return clean_tokens"
   ]
  },
  {
   "cell_type": "markdown",
   "metadata": {},
   "source": [
    "### 3. Build a machine learning pipeline\n",
    "This machine pipeline should take in the `message` column as input and output classification results on the other 36 categories in the dataset. You may find the [MultiOutputClassifier](http://scikit-learn.org/stable/modules/generated/sklearn.multioutput.MultiOutputClassifier.html) helpful for predicting multiple target variables."
   ]
  },
  {
   "cell_type": "code",
   "execution_count": 55,
   "metadata": {},
   "outputs": [],
   "source": [
    "class ColumnSelector(BaseEstimator, TransformerMixin):\n",
    "    def __init__(self, columns):\n",
    "        self.columns = columns\n",
    "\n",
    "    def fit(self, X, y=None):\n",
    "        return self\n",
    "\n",
    "    def transform(self, X):\n",
    "        assert isinstance(X, pd.DataFrame)\n",
    "\n",
    "        try:\n",
    "            return X[self.columns]\n",
    "        except KeyError:\n",
    "            cols_error = list(set(self.columns) - set(X.columns))\n",
    "            raise KeyError(\"The DataFrame does not include the columns: %s\" % cols_error)"
   ]
  },
  {
   "cell_type": "code",
   "execution_count": 56,
   "metadata": {},
   "outputs": [],
   "source": [
    "def model_pipeline():\n",
    "    pipeline = Pipeline([\n",
    "        ('features', FeatureUnion([\n",
    "\n",
    "            ('text_pipeline', Pipeline([\n",
    "                ('colsel', ColumnSelector('message')),\n",
    "                ('vect', CountVectorizer(tokenizer=tokenize)),\n",
    "                ('tfidf', TfidfTransformer())\n",
    "            ])),\n",
    "\n",
    "            ('categ_pipeline', Pipeline([\n",
    "                ('colsel', ColumnSelector(['direct','news']))\n",
    "            ])),\n",
    "        ])),\n",
    "\n",
    "        ('clf', RandomForestClassifier())\n",
    "    ])\n",
    "\n",
    "    return pipeline"
   ]
  },
  {
   "cell_type": "markdown",
   "metadata": {},
   "source": [
    "### 4. Train pipeline\n",
    "- Split data into train and test sets\n",
    "- Train pipeline"
   ]
  },
  {
   "cell_type": "code",
   "execution_count": 57,
   "metadata": {},
   "outputs": [
    {
     "data": {
      "text/plain": [
       "Pipeline(memory=None,\n",
       "     steps=[('features', FeatureUnion(n_jobs=1,\n",
       "       transformer_list=[('text_pipeline', Pipeline(memory=None,\n",
       "     steps=[('colsel', ColumnSelector(columns='message')), ('vect', CountVectorizer(analyzer='word', binary=False, decode_error='strict',\n",
       "        dtype=<class 'numpy.int64'>, encoding='utf-8',...n_jobs=1,\n",
       "            oob_score=False, random_state=None, verbose=0,\n",
       "            warm_start=False))])"
      ]
     },
     "execution_count": 57,
     "metadata": {},
     "output_type": "execute_result"
    }
   ],
   "source": [
    "X_train, X_test, y_train, y_test = train_test_split(X, Y)\n",
    "\n",
    "model = []\n",
    "model = model_pipeline()\n",
    "model.fit(X_train, y_train)"
   ]
  },
  {
   "cell_type": "markdown",
   "metadata": {},
   "source": [
    "### 5. Test your model\n",
    "Report the f1 score, precision and recall for each output category of the dataset. You can do this by iterating through the columns and calling sklearn's `classification_report` on each."
   ]
  },
  {
   "cell_type": "code",
   "execution_count": 58,
   "metadata": {},
   "outputs": [],
   "source": [
    "y_pred = model.predict(X_test)"
   ]
  },
  {
   "cell_type": "code",
   "execution_count": 59,
   "metadata": {},
   "outputs": [
    {
     "name": "stdout",
     "output_type": "stream",
     "text": [
      "Average overall accuracy 0.9394178279591766\n"
     ]
    }
   ],
   "source": [
    "overall_accuracy = (y_pred == y_test).mean().mean()\n",
    "print('Average overall accuracy {}'.format(overall_accuracy))"
   ]
  },
  {
   "cell_type": "code",
   "execution_count": 60,
   "metadata": {},
   "outputs": [
    {
     "name": "stdout",
     "output_type": "stream",
     "text": [
      "FEATURE: direct_report\n",
      "\n",
      "             precision    recall  f1-score   support\n",
      "\n",
      "          0       0.86      0.98      0.92      5302\n",
      "          1       0.81      0.32      0.46      1252\n",
      "\n",
      "avg / total       0.85      0.86      0.83      6554\n",
      "\n",
      "FEATURE: other_weather\n",
      "\n",
      "             precision    recall  f1-score   support\n",
      "\n",
      "          0       0.95      1.00      0.97      6213\n",
      "          1       0.25      0.00      0.01       341\n",
      "\n",
      "avg / total       0.91      0.95      0.92      6554\n",
      "\n",
      "FEATURE: cold\n",
      "\n",
      "             precision    recall  f1-score   support\n",
      "\n",
      "          0       0.98      1.00      0.99      6414\n",
      "          1       0.67      0.03      0.05       140\n",
      "\n",
      "avg / total       0.97      0.98      0.97      6554\n",
      "\n",
      "FEATURE: earthquake\n",
      "\n",
      "             precision    recall  f1-score   support\n",
      "\n",
      "          0       0.94      1.00      0.97      5944\n",
      "          1       0.91      0.40      0.56       610\n",
      "\n",
      "avg / total       0.94      0.94      0.93      6554\n",
      "\n",
      "FEATURE: fire\n",
      "\n",
      "             precision    recall  f1-score   support\n",
      "\n",
      "          0       0.99      1.00      0.99      6488\n",
      "          1       0.00      0.00      0.00        66\n",
      "\n",
      "avg / total       0.98      0.99      0.98      6554\n",
      "\n",
      "FEATURE: storm\n",
      "\n",
      "             precision    recall  f1-score   support\n",
      "\n",
      "          0       0.92      0.99      0.95      5919\n",
      "          1       0.76      0.16      0.26       635\n",
      "\n",
      "avg / total       0.90      0.91      0.89      6554\n",
      "\n",
      "FEATURE: floods\n",
      "\n",
      "             precision    recall  f1-score   support\n",
      "\n",
      "          0       0.93      1.00      0.96      5992\n",
      "          1       0.93      0.15      0.26       562\n",
      "\n",
      "avg / total       0.93      0.93      0.90      6554\n",
      "\n",
      "FEATURE: weather_related\n",
      "\n",
      "             precision    recall  f1-score   support\n",
      "\n",
      "          0       0.81      0.98      0.88      4674\n",
      "          1       0.87      0.42      0.56      1880\n",
      "\n",
      "avg / total       0.83      0.82      0.79      6554\n",
      "\n",
      "FEATURE: other_infrastructure\n",
      "\n",
      "             precision    recall  f1-score   support\n",
      "\n",
      "          0       0.95      1.00      0.98      6253\n",
      "          1       0.00      0.00      0.00       301\n",
      "\n",
      "avg / total       0.91      0.95      0.93      6554\n",
      "\n",
      "FEATURE: aid_centers\n",
      "\n",
      "             precision    recall  f1-score   support\n",
      "\n",
      "          0       0.99      1.00      0.99      6464\n",
      "          1       0.00      0.00      0.00        90\n",
      "\n",
      "avg / total       0.97      0.99      0.98      6554\n",
      "\n",
      "FEATURE: shops\n",
      "\n",
      "             precision    recall  f1-score   support\n",
      "\n",
      "          0       0.99      1.00      1.00      6521\n",
      "          1       0.00      0.00      0.00        33\n",
      "\n",
      "avg / total       0.99      0.99      0.99      6554\n",
      "\n",
      "FEATURE: hospitals\n",
      "\n",
      "             precision    recall  f1-score   support\n",
      "\n",
      "          0       0.99      1.00      1.00      6492\n",
      "          1       0.00      0.00      0.00        62\n",
      "\n",
      "avg / total       0.98      0.99      0.99      6554\n",
      "\n",
      "FEATURE: tools\n",
      "\n",
      "             precision    recall  f1-score   support\n",
      "\n",
      "          0       0.99      1.00      1.00      6507\n",
      "          1       0.00      0.00      0.00        47\n",
      "\n",
      "avg / total       0.99      0.99      0.99      6554\n",
      "\n",
      "FEATURE: electricity\n",
      "\n",
      "             precision    recall  f1-score   support\n",
      "\n",
      "          0       0.98      1.00      0.99      6432\n",
      "          1       1.00      0.02      0.03       122\n",
      "\n",
      "avg / total       0.98      0.98      0.97      6554\n",
      "\n",
      "FEATURE: buildings\n",
      "\n",
      "             precision    recall  f1-score   support\n",
      "\n",
      "          0       0.95      1.00      0.97      6196\n",
      "          1       0.73      0.02      0.04       358\n",
      "\n",
      "avg / total       0.93      0.95      0.92      6554\n",
      "\n",
      "FEATURE: transport\n",
      "\n",
      "             precision    recall  f1-score   support\n",
      "\n",
      "          0       0.95      1.00      0.98      6243\n",
      "          1       0.67      0.01      0.01       311\n",
      "\n",
      "avg / total       0.94      0.95      0.93      6554\n",
      "\n",
      "FEATURE: infrastructure_related\n",
      "\n",
      "             precision    recall  f1-score   support\n",
      "\n",
      "          0       0.93      1.00      0.96      6109\n",
      "          1       0.40      0.00      0.01       445\n",
      "\n",
      "avg / total       0.90      0.93      0.90      6554\n",
      "\n",
      "FEATURE: other_aid\n",
      "\n",
      "             precision    recall  f1-score   support\n",
      "\n",
      "          0       0.87      1.00      0.93      5696\n",
      "          1       0.55      0.02      0.04       858\n",
      "\n",
      "avg / total       0.83      0.87      0.81      6554\n",
      "\n",
      "FEATURE: death\n",
      "\n",
      "             precision    recall  f1-score   support\n",
      "\n",
      "          0       0.96      1.00      0.98      6260\n",
      "          1       0.89      0.06      0.11       294\n",
      "\n",
      "avg / total       0.95      0.96      0.94      6554\n",
      "\n",
      "FEATURE: refugees\n",
      "\n",
      "             precision    recall  f1-score   support\n",
      "\n",
      "          0       0.96      1.00      0.98      6323\n",
      "          1       0.00      0.00      0.00       231\n",
      "\n",
      "avg / total       0.93      0.96      0.95      6554\n",
      "\n",
      "FEATURE: missing_people\n",
      "\n",
      "             precision    recall  f1-score   support\n",
      "\n",
      "          0       0.99      1.00      1.00      6492\n",
      "          1       0.00      0.00      0.00        62\n",
      "\n",
      "avg / total       0.98      0.99      0.99      6554\n",
      "\n",
      "FEATURE: money\n",
      "\n",
      "             precision    recall  f1-score   support\n",
      "\n",
      "          0       0.98      1.00      0.99      6391\n",
      "          1       0.75      0.02      0.04       163\n",
      "\n",
      "avg / total       0.97      0.98      0.96      6554\n",
      "\n",
      "FEATURE: clothing\n",
      "\n",
      "             precision    recall  f1-score   support\n",
      "\n",
      "          0       0.99      1.00      0.99      6458\n",
      "          1       0.60      0.03      0.06        96\n",
      "\n",
      "avg / total       0.98      0.99      0.98      6554\n",
      "\n",
      "FEATURE: shelter\n",
      "\n",
      "             precision    recall  f1-score   support\n",
      "\n",
      "          0       0.92      1.00      0.96      5967\n",
      "          1       0.78      0.09      0.15       587\n",
      "\n",
      "avg / total       0.91      0.92      0.88      6554\n",
      "\n",
      "FEATURE: food\n",
      "\n",
      "             precision    recall  f1-score   support\n",
      "\n",
      "          0       0.92      0.99      0.96      5874\n",
      "          1       0.84      0.29      0.43       680\n",
      "\n",
      "avg / total       0.91      0.92      0.90      6554\n",
      "\n",
      "FEATURE: water\n",
      "\n",
      "             precision    recall  f1-score   support\n",
      "\n",
      "          0       0.95      1.00      0.97      6146\n",
      "          1       0.88      0.17      0.29       408\n",
      "\n",
      "avg / total       0.94      0.95      0.93      6554\n",
      "\n",
      "FEATURE: child_alone\n",
      "\n",
      "             precision    recall  f1-score   support\n",
      "\n",
      "          0       1.00      1.00      1.00      6554\n",
      "\n",
      "avg / total       1.00      1.00      1.00      6554\n",
      "\n",
      "FEATURE: military\n",
      "\n",
      "             precision    recall  f1-score   support\n",
      "\n",
      "          0       0.97      1.00      0.99      6362\n",
      "          1       0.40      0.01      0.02       192\n",
      "\n",
      "avg / total       0.95      0.97      0.96      6554\n",
      "\n",
      "FEATURE: security\n",
      "\n",
      "             precision    recall  f1-score   support\n",
      "\n",
      "          0       0.98      1.00      0.99      6433\n",
      "          1       1.00      0.01      0.02       121\n",
      "\n",
      "avg / total       0.98      0.98      0.97      6554\n",
      "\n",
      "FEATURE: search_and_rescue\n",
      "\n",
      "             precision    recall  f1-score   support\n",
      "\n",
      "          0       0.97      1.00      0.99      6389\n",
      "          1       1.00      0.01      0.01       165\n",
      "\n",
      "avg / total       0.98      0.97      0.96      6554\n",
      "\n",
      "FEATURE: medical_products\n",
      "\n",
      "             precision    recall  f1-score   support\n",
      "\n",
      "          0       0.95      1.00      0.97      6227\n",
      "          1       0.67      0.02      0.05       327\n",
      "\n",
      "avg / total       0.94      0.95      0.93      6554\n",
      "\n",
      "FEATURE: medical_help\n",
      "\n",
      "             precision    recall  f1-score   support\n",
      "\n",
      "          0       0.92      1.00      0.96      6039\n",
      "          1       0.42      0.01      0.02       515\n",
      "\n",
      "avg / total       0.88      0.92      0.89      6554\n",
      "\n",
      "FEATURE: aid_related\n",
      "\n",
      "             precision    recall  f1-score   support\n",
      "\n",
      "          0       0.70      0.92      0.79      3888\n",
      "          1       0.77      0.42      0.54      2666\n",
      "\n",
      "avg / total       0.73      0.71      0.69      6554\n",
      "\n",
      "FEATURE: offer\n",
      "\n",
      "             precision    recall  f1-score   support\n",
      "\n",
      "          0       1.00      1.00      1.00      6528\n",
      "          1       0.00      0.00      0.00        26\n",
      "\n",
      "avg / total       0.99      1.00      0.99      6554\n",
      "\n",
      "FEATURE: request\n",
      "\n",
      "             precision    recall  f1-score   support\n",
      "\n",
      "          0       0.89      0.99      0.94      5487\n",
      "          1       0.85      0.40      0.54      1067\n",
      "\n",
      "avg / total       0.89      0.89      0.87      6554\n",
      "\n",
      "FEATURE: related\n",
      "\n",
      "             precision    recall  f1-score   support\n",
      "\n",
      "          0       0.59      0.46      0.51      1526\n",
      "          1       0.84      0.90      0.87      4987\n",
      "          2       0.52      0.29      0.38        41\n",
      "\n",
      "avg / total       0.78      0.79      0.78      6554\n",
      "\n"
     ]
    },
    {
     "name": "stderr",
     "output_type": "stream",
     "text": [
      "C:\\ProgramData\\Anaconda3\\lib\\site-packages\\sklearn\\metrics\\classification.py:1135: UndefinedMetricWarning: Precision and F-score are ill-defined and being set to 0.0 in labels with no predicted samples.\n",
      "  'precision', 'predicted', average, warn_for)\n"
     ]
    }
   ],
   "source": [
    "y_pred = pd.DataFrame(y_pred, columns = y_test.columns)\n",
    "for column in y_test.columns:\n",
    "    print('FEATURE: {}\\n'.format(column))\n",
    "    print(classification_report(y_test[column],y_pred[column]))"
   ]
  },
  {
   "cell_type": "markdown",
   "metadata": {},
   "source": [
    "### 6. Improve your model\n",
    "Use grid search to find better parameters. "
   ]
  },
  {
   "cell_type": "code",
   "execution_count": 12,
   "metadata": {},
   "outputs": [],
   "source": [
    "def multi_accuracy_score(y_true, y_pred):\n",
    "    return (y_true == y_pred).mean().mean()"
   ]
  },
  {
   "cell_type": "code",
   "execution_count": null,
   "metadata": {},
   "outputs": [
    {
     "name": "stdout",
     "output_type": "stream",
     "text": [
      "Fitting 3 folds for each of 432 candidates, totalling 1296 fits\n"
     ]
    }
   ],
   "source": [
    "model = model_pipeline()\n",
    "\n",
    "parameters = {\n",
    "    'features__text_pipeline__vect__ngram_range': ((1, 1), (1, 2)),\n",
    "    'features__text_pipeline__vect__max_df': (0.75, 1.0),\n",
    "    'features__text_pipeline__vect__max_features': (None, 1000, 5000),\n",
    "    'features__text_pipeline__tfidf__use_idf': (True, False),\n",
    "    'clf__n_estimators': [10],\n",
    "    'clf__min_samples_split': [2, 8],\n",
    "    'clf__max_depth': [3, 9, None],\n",
    "    'clf__max_features': [None],\n",
    "    'features__transformer_weights': [\n",
    "        {'text_pipeline': 1, 'categ_pipeline': 0.5},\n",
    "        {'text_pipeline': 0.5, 'categ_pipeline': 1},\n",
    "        {'text_pipeline': 1, 'categ_pipeline': 1},\n",
    "    ]\n",
    "}\n",
    "\n",
    "scorer = make_scorer(mean_squared_error, greater_is_better = False)\n",
    "\n",
    "scorer = make_scorer(multi_accuracy_score, greater_is_better = True)\n",
    "\n",
    "cv = GridSearchCV(model, param_grid=parameters, scoring = scorer,verbose = 1, n_jobs = 1)\n",
    "\n",
    "cv.fit(X_train, y_train)"
   ]
  },
  {
   "cell_type": "code",
   "execution_count": 64,
   "metadata": {},
   "outputs": [
    {
     "name": "stdout",
     "output_type": "stream",
     "text": [
      "RandomForestClassifier(bootstrap=True, class_weight=None, criterion='gini',\n",
      "            max_depth=None, max_features=None, max_leaf_nodes=None,\n",
      "            min_impurity_decrease=0.0, min_impurity_split=None,\n",
      "            min_samples_leaf=1, min_samples_split=8,\n",
      "            min_weight_fraction_leaf=0.0, n_estimators=10, n_jobs=None,\n",
      "            oob_score=False, random_state=None, verbose=0,\n",
      "            warm_start=False)\n"
     ]
    }
   ],
   "source": [
    "print(cv.best_estimator_.named_steps.clf)"
   ]
  },
  {
   "cell_type": "markdown",
   "metadata": {},
   "source": [
    "### 7. Test your model\n",
    "Show the accuracy, precision, and recall of the tuned model.  \n",
    "\n",
    "Since this project focuses on code quality, process, and  pipelines, there is no minimum performance metric needed to pass. However, make sure to fine tune your models for accuracy, precision and recall to make your project stand out - especially for your portfolio!"
   ]
  },
  {
   "cell_type": "code",
   "execution_count": 65,
   "metadata": {},
   "outputs": [
    {
     "name": "stdout",
     "output_type": "stream",
     "text": [
      "0.9472078120231919\n"
     ]
    }
   ],
   "source": [
    "y_pred_cv = cv.best_estimator_.predict(X_test)\n",
    "print((y_pred_cv == y_test).mean().mean())"
   ]
  },
  {
   "cell_type": "markdown",
   "metadata": {},
   "source": [
    "### 8. Try improving your model further. Here are a few ideas:\n",
    "* try other machine learning algorithms\n",
    "* add other features besides the TF-IDF"
   ]
  },
  {
   "cell_type": "code",
   "execution_count": null,
   "metadata": {},
   "outputs": [],
   "source": []
  },
  {
   "cell_type": "markdown",
   "metadata": {},
   "source": [
    "### 9. Export your model as a pickle file"
   ]
  },
  {
   "cell_type": "code",
   "execution_count": 61,
   "metadata": {},
   "outputs": [],
   "source": [
    "# save the model to disk\n",
    "filename = 'finalized_model.sav'\n",
    "pickle.dump(model, open(filename, 'wb'))\n",
    " \n",
    "# some time later...\n",
    " \n",
    "# load the model from disk\n",
    "# loaded_model = pickle.load(open(filename, 'rb'))\n",
    "# result = loaded_model.score(X_test, Y_test)"
   ]
  },
  {
   "cell_type": "markdown",
   "metadata": {},
   "source": [
    "### 10. Use this notebook to complete `train.py`\n",
    "Use the template file attached in the Resources folder to write a script that runs the steps above to create a database and export a model based on a new dataset specified by the user."
   ]
  },
  {
   "cell_type": "code",
   "execution_count": null,
   "metadata": {},
   "outputs": [],
   "source": []
  }
 ],
 "metadata": {
  "kernelspec": {
   "display_name": "Python 3",
   "language": "python",
   "name": "python3"
  },
  "language_info": {
   "codemirror_mode": {
    "name": "ipython",
    "version": 3
   },
   "file_extension": ".py",
   "mimetype": "text/x-python",
   "name": "python",
   "nbconvert_exporter": "python",
   "pygments_lexer": "ipython3",
   "version": "3.6.7"
  }
 },
 "nbformat": 4,
 "nbformat_minor": 2
}
