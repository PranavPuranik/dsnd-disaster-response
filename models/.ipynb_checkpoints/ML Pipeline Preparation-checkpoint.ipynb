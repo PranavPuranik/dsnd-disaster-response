{
 "cells": [
  {
   "cell_type": "markdown",
   "metadata": {},
   "source": [
    "# ML Pipeline Preparation\n",
    "Follow the instructions below to help you create your ML pipeline.\n",
    "### 1. Import libraries and load data from database.\n",
    "- Import Python libraries\n",
    "- Load dataset from database with [`read_sql_table`](https://pandas.pydata.org/pandas-docs/stable/generated/pandas.read_sql_table.html)\n",
    "- Define feature and target variables X and Y"
   ]
  },
  {
   "cell_type": "code",
   "execution_count": 49,
   "metadata": {},
   "outputs": [
    {
     "name": "stderr",
     "output_type": "stream",
     "text": [
      "[nltk_data] Downloading package punkt to /home/matteo/nltk_data...\n",
      "[nltk_data]   Package punkt is already up-to-date!\n",
      "[nltk_data] Downloading package wordnet to /home/matteo/nltk_data...\n",
      "[nltk_data]   Package wordnet is already up-to-date!\n",
      "[nltk_data] Downloading package averaged_perceptron_tagger to\n",
      "[nltk_data]     /home/matteo/nltk_data...\n",
      "[nltk_data]   Package averaged_perceptron_tagger is already up-to-\n",
      "[nltk_data]       date!\n"
     ]
    },
    {
     "data": {
      "text/plain": [
       "True"
      ]
     },
     "execution_count": 49,
     "metadata": {},
     "output_type": "execute_result"
    }
   ],
   "source": [
    "# import libraries\n",
    "import pandas as pd\n",
    "import numpy as np\n",
    "import os\n",
    "from sqlalchemy import create_engine\n",
    "import re\n",
    "import nltk\n",
    "from sklearn.base import BaseEstimator, TransformerMixin\n",
    "from sklearn.model_selection import train_test_split\n",
    "from sklearn.multioutput import MultiOutputClassifier\n",
    "from sklearn.ensemble import RandomForestClassifier, GradientBoostingClassifier\n",
    "from sklearn.feature_extraction.text import CountVectorizer, TfidfTransformer\n",
    "from nltk.tokenize import word_tokenize\n",
    "from nltk.stem import WordNetLemmatizer\n",
    "from sklearn.pipeline import Pipeline, FeatureUnion\n",
    "from sklearn.model_selection import GridSearchCV\n",
    "from sklearn.metrics import make_scorer, accuracy_score, mean_squared_error\n",
    "\n",
    "nltk.download(['punkt', 'wordnet', 'averaged_perceptron_tagger'])"
   ]
  },
  {
   "cell_type": "code",
   "execution_count": 2,
   "metadata": {},
   "outputs": [],
   "source": [
    "# load data from database\n",
    "cwd = os.getcwd()\n",
    "dbwd = cwd.replace('/models','/data/').replace('\\\\models','\\\\data\\\\')\n",
    "engine = create_engine('sqlite:///'+dbwd+'DisasterResponse.db')\n",
    "df = pd.read_sql_table('df',engine)\n",
    "X = df[['message','direct','news']]\n",
    "Y = df.iloc[:,range(-3,-39,-1)]"
   ]
  },
  {
   "cell_type": "code",
   "execution_count": 3,
   "metadata": {},
   "outputs": [
    {
     "name": "stdout",
     "output_type": "stream",
     "text": [
      "['id' 'message' 'original' 'related' 'request' 'offer' 'aid_related'\n",
      " 'medical_help' 'medical_products' 'search_and_rescue' 'security'\n",
      " 'military' 'child_alone' 'water' 'food' 'shelter' 'clothing' 'money'\n",
      " 'missing_people' 'refugees' 'death' 'other_aid' 'infrastructure_related'\n",
      " 'transport' 'buildings' 'electricity' 'tools' 'hospitals' 'shops'\n",
      " 'aid_centers' 'other_infrastructure' 'weather_related' 'floods' 'storm'\n",
      " 'fire' 'earthquake' 'cold' 'other_weather' 'direct_report' 'direct'\n",
      " 'news']\n"
     ]
    }
   ],
   "source": [
    "print(df.columns.values)"
   ]
  },
  {
   "cell_type": "code",
   "execution_count": 4,
   "metadata": {},
   "outputs": [
    {
     "name": "stdout",
     "output_type": "stream",
     "text": [
      "['direct_report' 'other_weather' 'cold' 'earthquake' 'fire' 'storm'\n",
      " 'floods' 'weather_related' 'other_infrastructure' 'aid_centers' 'shops'\n",
      " 'hospitals' 'tools' 'electricity' 'buildings' 'transport'\n",
      " 'infrastructure_related' 'other_aid' 'death' 'refugees' 'missing_people'\n",
      " 'money' 'clothing' 'shelter' 'food' 'water' 'child_alone' 'military'\n",
      " 'security' 'search_and_rescue' 'medical_products' 'medical_help'\n",
      " 'aid_related' 'offer' 'request' 'related']\n"
     ]
    }
   ],
   "source": [
    "print(Y.columns.values)"
   ]
  },
  {
   "cell_type": "markdown",
   "metadata": {},
   "source": [
    "### 2. Write a tokenization function to process your text data"
   ]
  },
  {
   "cell_type": "code",
   "execution_count": 5,
   "metadata": {},
   "outputs": [],
   "source": [
    "def tokenize(text):\n",
    "    url_regex = 'http[s]?://(?:[a-zA-Z]|[0-9]|[$-_@.&+]|[!*\\(\\),]|(?:%[0-9a-fA-F][0-9a-fA-F]))+'\n",
    "    detected_urls = re.findall(url_regex, text)\n",
    "    for url in detected_urls:\n",
    "        text = text.replace(url, \"urlplaceholder\")\n",
    "\n",
    "    tokens = word_tokenize(text)\n",
    "    lemmatizer = WordNetLemmatizer()\n",
    "\n",
    "    clean_tokens = []\n",
    "    for tok in tokens:\n",
    "        clean_tok = lemmatizer.lemmatize(tok).lower().strip()\n",
    "        clean_tokens.append(clean_tok)\n",
    "\n",
    "    return clean_tokens"
   ]
  },
  {
   "cell_type": "markdown",
   "metadata": {},
   "source": [
    "### 3. Build a machine learning pipeline\n",
    "This machine pipeline should take in the `message` column as input and output classification results on the other 36 categories in the dataset. You may find the [MultiOutputClassifier](http://scikit-learn.org/stable/modules/generated/sklearn.multioutput.MultiOutputClassifier.html) helpful for predicting multiple target variables."
   ]
  },
  {
   "cell_type": "code",
   "execution_count": 6,
   "metadata": {},
   "outputs": [],
   "source": [
    "class ColumnSelector(BaseEstimator, TransformerMixin):\n",
    "    def __init__(self, columns):\n",
    "        self.columns = columns\n",
    "\n",
    "    def fit(self, X, y=None):\n",
    "        return self\n",
    "\n",
    "    def transform(self, X):\n",
    "        assert isinstance(X, pd.DataFrame)\n",
    "\n",
    "        try:\n",
    "            return X[self.columns]\n",
    "        except KeyError:\n",
    "            cols_error = list(set(self.columns) - set(X.columns))\n",
    "            raise KeyError(\"The DataFrame does not include the columns: %s\" % cols_error)"
   ]
  },
  {
   "cell_type": "code",
   "execution_count": 61,
   "metadata": {},
   "outputs": [],
   "source": [
    "def model_pipeline():\n",
    "    pipeline = Pipeline([\n",
    "        ('features', FeatureUnion([\n",
    "\n",
    "            ('text_pipeline', Pipeline([\n",
    "                ('colsel', ColumnSelector('message')),\n",
    "                ('vect', CountVectorizer(tokenizer=tokenize)),\n",
    "                ('tfidf', TfidfTransformer())\n",
    "            ])),\n",
    "\n",
    "            ('categ_pipeline', Pipeline([\n",
    "                ('colsel', ColumnSelector(['direct','news']))\n",
    "            ])),\n",
    "        ])),\n",
    "\n",
    "        ('clf', RandomForestClassifier())\n",
    "    ])\n",
    "\n",
    "    return pipeline"
   ]
  },
  {
   "cell_type": "markdown",
   "metadata": {},
   "source": [
    "### 4. Train pipeline\n",
    "- Split data into train and test sets\n",
    "- Train pipeline"
   ]
  },
  {
   "cell_type": "code",
   "execution_count": 53,
   "metadata": {},
   "outputs": [
    {
     "name": "stderr",
     "output_type": "stream",
     "text": [
      "/home/matteo/Documents/py36/lib/python3.6/site-packages/sklearn/ensemble/forest.py:248: FutureWarning: The default value of n_estimators will change from 10 in version 0.20 to 100 in 0.22.\n",
      "  \"10 in version 0.20 to 100 in 0.22.\", FutureWarning)\n",
      "/home/matteo/Documents/py36/lib/python3.6/site-packages/sklearn/ensemble/forest.py:248: FutureWarning: The default value of n_estimators will change from 10 in version 0.20 to 100 in 0.22.\n",
      "  \"10 in version 0.20 to 100 in 0.22.\", FutureWarning)\n",
      "/home/matteo/Documents/py36/lib/python3.6/site-packages/sklearn/ensemble/forest.py:248: FutureWarning: The default value of n_estimators will change from 10 in version 0.20 to 100 in 0.22.\n",
      "  \"10 in version 0.20 to 100 in 0.22.\", FutureWarning)\n",
      "/home/matteo/Documents/py36/lib/python3.6/site-packages/sklearn/ensemble/forest.py:248: FutureWarning: The default value of n_estimators will change from 10 in version 0.20 to 100 in 0.22.\n",
      "  \"10 in version 0.20 to 100 in 0.22.\", FutureWarning)\n",
      "/home/matteo/Documents/py36/lib/python3.6/site-packages/sklearn/ensemble/forest.py:248: FutureWarning: The default value of n_estimators will change from 10 in version 0.20 to 100 in 0.22.\n",
      "  \"10 in version 0.20 to 100 in 0.22.\", FutureWarning)\n",
      "/home/matteo/Documents/py36/lib/python3.6/site-packages/sklearn/ensemble/forest.py:248: FutureWarning: The default value of n_estimators will change from 10 in version 0.20 to 100 in 0.22.\n",
      "  \"10 in version 0.20 to 100 in 0.22.\", FutureWarning)\n",
      "/home/matteo/Documents/py36/lib/python3.6/site-packages/sklearn/ensemble/forest.py:248: FutureWarning: The default value of n_estimators will change from 10 in version 0.20 to 100 in 0.22.\n",
      "  \"10 in version 0.20 to 100 in 0.22.\", FutureWarning)\n",
      "/home/matteo/Documents/py36/lib/python3.6/site-packages/sklearn/ensemble/forest.py:248: FutureWarning: The default value of n_estimators will change from 10 in version 0.20 to 100 in 0.22.\n",
      "  \"10 in version 0.20 to 100 in 0.22.\", FutureWarning)\n",
      "/home/matteo/Documents/py36/lib/python3.6/site-packages/sklearn/ensemble/forest.py:248: FutureWarning: The default value of n_estimators will change from 10 in version 0.20 to 100 in 0.22.\n",
      "  \"10 in version 0.20 to 100 in 0.22.\", FutureWarning)\n",
      "/home/matteo/Documents/py36/lib/python3.6/site-packages/sklearn/ensemble/forest.py:248: FutureWarning: The default value of n_estimators will change from 10 in version 0.20 to 100 in 0.22.\n",
      "  \"10 in version 0.20 to 100 in 0.22.\", FutureWarning)\n",
      "/home/matteo/Documents/py36/lib/python3.6/site-packages/sklearn/ensemble/forest.py:248: FutureWarning: The default value of n_estimators will change from 10 in version 0.20 to 100 in 0.22.\n",
      "  \"10 in version 0.20 to 100 in 0.22.\", FutureWarning)\n",
      "/home/matteo/Documents/py36/lib/python3.6/site-packages/sklearn/ensemble/forest.py:248: FutureWarning: The default value of n_estimators will change from 10 in version 0.20 to 100 in 0.22.\n",
      "  \"10 in version 0.20 to 100 in 0.22.\", FutureWarning)\n",
      "/home/matteo/Documents/py36/lib/python3.6/site-packages/sklearn/ensemble/forest.py:248: FutureWarning: The default value of n_estimators will change from 10 in version 0.20 to 100 in 0.22.\n",
      "  \"10 in version 0.20 to 100 in 0.22.\", FutureWarning)\n",
      "/home/matteo/Documents/py36/lib/python3.6/site-packages/sklearn/ensemble/forest.py:248: FutureWarning: The default value of n_estimators will change from 10 in version 0.20 to 100 in 0.22.\n",
      "  \"10 in version 0.20 to 100 in 0.22.\", FutureWarning)\n",
      "/home/matteo/Documents/py36/lib/python3.6/site-packages/sklearn/ensemble/forest.py:248: FutureWarning: The default value of n_estimators will change from 10 in version 0.20 to 100 in 0.22.\n",
      "  \"10 in version 0.20 to 100 in 0.22.\", FutureWarning)\n",
      "/home/matteo/Documents/py36/lib/python3.6/site-packages/sklearn/ensemble/forest.py:248: FutureWarning: The default value of n_estimators will change from 10 in version 0.20 to 100 in 0.22.\n",
      "  \"10 in version 0.20 to 100 in 0.22.\", FutureWarning)\n",
      "/home/matteo/Documents/py36/lib/python3.6/site-packages/sklearn/ensemble/forest.py:248: FutureWarning: The default value of n_estimators will change from 10 in version 0.20 to 100 in 0.22.\n",
      "  \"10 in version 0.20 to 100 in 0.22.\", FutureWarning)\n",
      "/home/matteo/Documents/py36/lib/python3.6/site-packages/sklearn/ensemble/forest.py:248: FutureWarning: The default value of n_estimators will change from 10 in version 0.20 to 100 in 0.22.\n",
      "  \"10 in version 0.20 to 100 in 0.22.\", FutureWarning)\n",
      "/home/matteo/Documents/py36/lib/python3.6/site-packages/sklearn/ensemble/forest.py:248: FutureWarning: The default value of n_estimators will change from 10 in version 0.20 to 100 in 0.22.\n",
      "  \"10 in version 0.20 to 100 in 0.22.\", FutureWarning)\n",
      "/home/matteo/Documents/py36/lib/python3.6/site-packages/sklearn/ensemble/forest.py:248: FutureWarning: The default value of n_estimators will change from 10 in version 0.20 to 100 in 0.22.\n",
      "  \"10 in version 0.20 to 100 in 0.22.\", FutureWarning)\n",
      "/home/matteo/Documents/py36/lib/python3.6/site-packages/sklearn/ensemble/forest.py:248: FutureWarning: The default value of n_estimators will change from 10 in version 0.20 to 100 in 0.22.\n",
      "  \"10 in version 0.20 to 100 in 0.22.\", FutureWarning)\n",
      "/home/matteo/Documents/py36/lib/python3.6/site-packages/sklearn/ensemble/forest.py:248: FutureWarning: The default value of n_estimators will change from 10 in version 0.20 to 100 in 0.22.\n",
      "  \"10 in version 0.20 to 100 in 0.22.\", FutureWarning)\n",
      "/home/matteo/Documents/py36/lib/python3.6/site-packages/sklearn/ensemble/forest.py:248: FutureWarning: The default value of n_estimators will change from 10 in version 0.20 to 100 in 0.22.\n",
      "  \"10 in version 0.20 to 100 in 0.22.\", FutureWarning)\n",
      "/home/matteo/Documents/py36/lib/python3.6/site-packages/sklearn/ensemble/forest.py:248: FutureWarning: The default value of n_estimators will change from 10 in version 0.20 to 100 in 0.22.\n",
      "  \"10 in version 0.20 to 100 in 0.22.\", FutureWarning)\n",
      "/home/matteo/Documents/py36/lib/python3.6/site-packages/sklearn/ensemble/forest.py:248: FutureWarning: The default value of n_estimators will change from 10 in version 0.20 to 100 in 0.22.\n",
      "  \"10 in version 0.20 to 100 in 0.22.\", FutureWarning)\n",
      "/home/matteo/Documents/py36/lib/python3.6/site-packages/sklearn/ensemble/forest.py:248: FutureWarning: The default value of n_estimators will change from 10 in version 0.20 to 100 in 0.22.\n",
      "  \"10 in version 0.20 to 100 in 0.22.\", FutureWarning)\n",
      "/home/matteo/Documents/py36/lib/python3.6/site-packages/sklearn/ensemble/forest.py:248: FutureWarning: The default value of n_estimators will change from 10 in version 0.20 to 100 in 0.22.\n",
      "  \"10 in version 0.20 to 100 in 0.22.\", FutureWarning)\n",
      "/home/matteo/Documents/py36/lib/python3.6/site-packages/sklearn/ensemble/forest.py:248: FutureWarning: The default value of n_estimators will change from 10 in version 0.20 to 100 in 0.22.\n",
      "  \"10 in version 0.20 to 100 in 0.22.\", FutureWarning)\n",
      "/home/matteo/Documents/py36/lib/python3.6/site-packages/sklearn/ensemble/forest.py:248: FutureWarning: The default value of n_estimators will change from 10 in version 0.20 to 100 in 0.22.\n",
      "  \"10 in version 0.20 to 100 in 0.22.\", FutureWarning)\n",
      "/home/matteo/Documents/py36/lib/python3.6/site-packages/sklearn/ensemble/forest.py:248: FutureWarning: The default value of n_estimators will change from 10 in version 0.20 to 100 in 0.22.\n",
      "  \"10 in version 0.20 to 100 in 0.22.\", FutureWarning)\n",
      "/home/matteo/Documents/py36/lib/python3.6/site-packages/sklearn/ensemble/forest.py:248: FutureWarning: The default value of n_estimators will change from 10 in version 0.20 to 100 in 0.22.\n",
      "  \"10 in version 0.20 to 100 in 0.22.\", FutureWarning)\n",
      "/home/matteo/Documents/py36/lib/python3.6/site-packages/sklearn/ensemble/forest.py:248: FutureWarning: The default value of n_estimators will change from 10 in version 0.20 to 100 in 0.22.\n",
      "  \"10 in version 0.20 to 100 in 0.22.\", FutureWarning)\n",
      "/home/matteo/Documents/py36/lib/python3.6/site-packages/sklearn/ensemble/forest.py:248: FutureWarning: The default value of n_estimators will change from 10 in version 0.20 to 100 in 0.22.\n",
      "  \"10 in version 0.20 to 100 in 0.22.\", FutureWarning)\n",
      "/home/matteo/Documents/py36/lib/python3.6/site-packages/sklearn/ensemble/forest.py:248: FutureWarning: The default value of n_estimators will change from 10 in version 0.20 to 100 in 0.22.\n",
      "  \"10 in version 0.20 to 100 in 0.22.\", FutureWarning)\n"
     ]
    },
    {
     "name": "stderr",
     "output_type": "stream",
     "text": [
      "/home/matteo/Documents/py36/lib/python3.6/site-packages/sklearn/ensemble/forest.py:248: FutureWarning: The default value of n_estimators will change from 10 in version 0.20 to 100 in 0.22.\n",
      "  \"10 in version 0.20 to 100 in 0.22.\", FutureWarning)\n",
      "/home/matteo/Documents/py36/lib/python3.6/site-packages/sklearn/ensemble/forest.py:248: FutureWarning: The default value of n_estimators will change from 10 in version 0.20 to 100 in 0.22.\n",
      "  \"10 in version 0.20 to 100 in 0.22.\", FutureWarning)\n"
     ]
    },
    {
     "data": {
      "text/plain": [
       "Pipeline(memory=None,\n",
       "     steps=[('features', FeatureUnion(n_jobs=None,\n",
       "       transformer_list=[('text_pipeline', Pipeline(memory=None,\n",
       "     steps=[('colsel', ColumnSelector(columns='message')), ('vect', CountVectorizer(analyzer='word', binary=False, decode_error='strict',\n",
       "        dtype=<class 'numpy.int64'>, encoding='utf-..._score=False, random_state=None, verbose=0,\n",
       "            warm_start=False),\n",
       "           n_jobs=None))])"
      ]
     },
     "execution_count": 53,
     "metadata": {},
     "output_type": "execute_result"
    }
   ],
   "source": [
    "X_train, X_test, y_train, y_test = train_test_split(X, Y)\n",
    "\n",
    "model = model_pipeline()\n",
    "model.fit(X_train, y_train)"
   ]
  },
  {
   "cell_type": "markdown",
   "metadata": {},
   "source": [
    "### 5. Test your model\n",
    "Report the f1 score, precision and recall for each output category of the dataset. You can do this by iterating through the columns and calling sklearn's `classification_report` on each."
   ]
  },
  {
   "cell_type": "code",
   "execution_count": 54,
   "metadata": {},
   "outputs": [],
   "source": [
    "y_pred = model.predict(X_test)"
   ]
  },
  {
   "cell_type": "code",
   "execution_count": 55,
   "metadata": {},
   "outputs": [
    {
     "name": "stdout",
     "output_type": "stream",
     "text": [
      "0.9416047875767133\n"
     ]
    }
   ],
   "source": [
    "print((y_pred == y_test).mean().mean())"
   ]
  },
  {
   "cell_type": "code",
   "execution_count": 26,
   "metadata": {},
   "outputs": [],
   "source": [
    "def multi_accuracy_score(y_true, y_pred):\n",
    "    return (y_true == y_pred).mean().mean()"
   ]
  },
  {
   "cell_type": "markdown",
   "metadata": {},
   "source": [
    "### 6. Improve your model\n",
    "Use grid search to find better parameters. "
   ]
  },
  {
   "cell_type": "code",
   "execution_count": 63,
   "metadata": {},
   "outputs": [
    {
     "name": "stdout",
     "output_type": "stream",
     "text": [
      "Fitting 3 folds for each of 18 candidates, totalling 54 fits\n",
      "[CV] clf__max_depth=3, clf__max_features=None, clf__min_samples_split=2, clf__n_estimators=10 \n"
     ]
    },
    {
     "name": "stderr",
     "output_type": "stream",
     "text": [
      "[Parallel(n_jobs=1)]: Using backend SequentialBackend with 1 concurrent workers.\n"
     ]
    },
    {
     "name": "stdout",
     "output_type": "stream",
     "text": [
      "[CV]  clf__max_depth=3, clf__max_features=None, clf__min_samples_split=2, clf__n_estimators=10, total=  12.3s\n",
      "[CV] clf__max_depth=3, clf__max_features=None, clf__min_samples_split=2, clf__n_estimators=10 \n"
     ]
    },
    {
     "name": "stderr",
     "output_type": "stream",
     "text": [
      "[Parallel(n_jobs=1)]: Done   1 out of   1 | elapsed:   17.2s remaining:    0.0s\n"
     ]
    },
    {
     "name": "stdout",
     "output_type": "stream",
     "text": [
      "[CV]  clf__max_depth=3, clf__max_features=None, clf__min_samples_split=2, clf__n_estimators=10, total=  11.6s\n",
      "[CV] clf__max_depth=3, clf__max_features=None, clf__min_samples_split=2, clf__n_estimators=10 \n",
      "[CV]  clf__max_depth=3, clf__max_features=None, clf__min_samples_split=2, clf__n_estimators=10, total=  11.6s\n",
      "[CV] clf__max_depth=3, clf__max_features=None, clf__min_samples_split=4, clf__n_estimators=10 \n",
      "[CV]  clf__max_depth=3, clf__max_features=None, clf__min_samples_split=4, clf__n_estimators=10, total=  11.7s\n",
      "[CV] clf__max_depth=3, clf__max_features=None, clf__min_samples_split=4, clf__n_estimators=10 \n",
      "[CV]  clf__max_depth=3, clf__max_features=None, clf__min_samples_split=4, clf__n_estimators=10, total=  11.6s\n",
      "[CV] clf__max_depth=3, clf__max_features=None, clf__min_samples_split=4, clf__n_estimators=10 \n",
      "[CV]  clf__max_depth=3, clf__max_features=None, clf__min_samples_split=4, clf__n_estimators=10, total=  11.6s\n",
      "[CV] clf__max_depth=3, clf__max_features=None, clf__min_samples_split=8, clf__n_estimators=10 \n",
      "[CV]  clf__max_depth=3, clf__max_features=None, clf__min_samples_split=8, clf__n_estimators=10, total=  11.8s\n",
      "[CV] clf__max_depth=3, clf__max_features=None, clf__min_samples_split=8, clf__n_estimators=10 \n",
      "[CV]  clf__max_depth=3, clf__max_features=None, clf__min_samples_split=8, clf__n_estimators=10, total=  11.7s\n",
      "[CV] clf__max_depth=3, clf__max_features=None, clf__min_samples_split=8, clf__n_estimators=10 \n",
      "[CV]  clf__max_depth=3, clf__max_features=None, clf__min_samples_split=8, clf__n_estimators=10, total=  11.6s\n",
      "[CV] clf__max_depth=3, clf__max_features=sqrt, clf__min_samples_split=2, clf__n_estimators=10 \n",
      "[CV]  clf__max_depth=3, clf__max_features=sqrt, clf__min_samples_split=2, clf__n_estimators=10, total=   8.3s\n",
      "[CV] clf__max_depth=3, clf__max_features=sqrt, clf__min_samples_split=2, clf__n_estimators=10 \n",
      "[CV]  clf__max_depth=3, clf__max_features=sqrt, clf__min_samples_split=2, clf__n_estimators=10, total=   7.3s\n",
      "[CV] clf__max_depth=3, clf__max_features=sqrt, clf__min_samples_split=2, clf__n_estimators=10 \n",
      "[CV]  clf__max_depth=3, clf__max_features=sqrt, clf__min_samples_split=2, clf__n_estimators=10, total=   7.2s\n",
      "[CV] clf__max_depth=3, clf__max_features=sqrt, clf__min_samples_split=4, clf__n_estimators=10 \n",
      "[CV]  clf__max_depth=3, clf__max_features=sqrt, clf__min_samples_split=4, clf__n_estimators=10, total=   7.3s\n",
      "[CV] clf__max_depth=3, clf__max_features=sqrt, clf__min_samples_split=4, clf__n_estimators=10 \n",
      "[CV]  clf__max_depth=3, clf__max_features=sqrt, clf__min_samples_split=4, clf__n_estimators=10, total=   7.3s\n",
      "[CV] clf__max_depth=3, clf__max_features=sqrt, clf__min_samples_split=4, clf__n_estimators=10 \n",
      "[CV]  clf__max_depth=3, clf__max_features=sqrt, clf__min_samples_split=4, clf__n_estimators=10, total=   7.3s\n",
      "[CV] clf__max_depth=3, clf__max_features=sqrt, clf__min_samples_split=8, clf__n_estimators=10 \n",
      "[CV]  clf__max_depth=3, clf__max_features=sqrt, clf__min_samples_split=8, clf__n_estimators=10, total=   7.4s\n",
      "[CV] clf__max_depth=3, clf__max_features=sqrt, clf__min_samples_split=8, clf__n_estimators=10 \n",
      "[CV]  clf__max_depth=3, clf__max_features=sqrt, clf__min_samples_split=8, clf__n_estimators=10, total=   7.3s\n",
      "[CV] clf__max_depth=3, clf__max_features=sqrt, clf__min_samples_split=8, clf__n_estimators=10 \n",
      "[CV]  clf__max_depth=3, clf__max_features=sqrt, clf__min_samples_split=8, clf__n_estimators=10, total=   7.4s\n",
      "[CV] clf__max_depth=9, clf__max_features=None, clf__min_samples_split=2, clf__n_estimators=10 \n",
      "[CV]  clf__max_depth=9, clf__max_features=None, clf__min_samples_split=2, clf__n_estimators=10, total=  22.1s\n",
      "[CV] clf__max_depth=9, clf__max_features=None, clf__min_samples_split=2, clf__n_estimators=10 \n",
      "[CV]  clf__max_depth=9, clf__max_features=None, clf__min_samples_split=2, clf__n_estimators=10, total=  21.8s\n",
      "[CV] clf__max_depth=9, clf__max_features=None, clf__min_samples_split=2, clf__n_estimators=10 \n",
      "[CV]  clf__max_depth=9, clf__max_features=None, clf__min_samples_split=2, clf__n_estimators=10, total=  22.8s\n",
      "[CV] clf__max_depth=9, clf__max_features=None, clf__min_samples_split=4, clf__n_estimators=10 \n",
      "[CV]  clf__max_depth=9, clf__max_features=None, clf__min_samples_split=4, clf__n_estimators=10, total=  23.1s\n",
      "[CV] clf__max_depth=9, clf__max_features=None, clf__min_samples_split=4, clf__n_estimators=10 \n",
      "[CV]  clf__max_depth=9, clf__max_features=None, clf__min_samples_split=4, clf__n_estimators=10, total=  21.9s\n",
      "[CV] clf__max_depth=9, clf__max_features=None, clf__min_samples_split=4, clf__n_estimators=10 \n",
      "[CV]  clf__max_depth=9, clf__max_features=None, clf__min_samples_split=4, clf__n_estimators=10, total=  22.2s\n",
      "[CV] clf__max_depth=9, clf__max_features=None, clf__min_samples_split=8, clf__n_estimators=10 \n",
      "[CV]  clf__max_depth=9, clf__max_features=None, clf__min_samples_split=8, clf__n_estimators=10, total=  21.3s\n",
      "[CV] clf__max_depth=9, clf__max_features=None, clf__min_samples_split=8, clf__n_estimators=10 \n",
      "[CV]  clf__max_depth=9, clf__max_features=None, clf__min_samples_split=8, clf__n_estimators=10, total=  21.3s\n",
      "[CV] clf__max_depth=9, clf__max_features=None, clf__min_samples_split=8, clf__n_estimators=10 \n",
      "[CV]  clf__max_depth=9, clf__max_features=None, clf__min_samples_split=8, clf__n_estimators=10, total=  21.4s\n",
      "[CV] clf__max_depth=9, clf__max_features=sqrt, clf__min_samples_split=2, clf__n_estimators=10 \n",
      "[CV]  clf__max_depth=9, clf__max_features=sqrt, clf__min_samples_split=2, clf__n_estimators=10, total=   7.4s\n",
      "[CV] clf__max_depth=9, clf__max_features=sqrt, clf__min_samples_split=2, clf__n_estimators=10 \n",
      "[CV]  clf__max_depth=9, clf__max_features=sqrt, clf__min_samples_split=2, clf__n_estimators=10, total=   7.6s\n",
      "[CV] clf__max_depth=9, clf__max_features=sqrt, clf__min_samples_split=2, clf__n_estimators=10 \n",
      "[CV]  clf__max_depth=9, clf__max_features=sqrt, clf__min_samples_split=2, clf__n_estimators=10, total=   7.4s\n",
      "[CV] clf__max_depth=9, clf__max_features=sqrt, clf__min_samples_split=4, clf__n_estimators=10 \n",
      "[CV]  clf__max_depth=9, clf__max_features=sqrt, clf__min_samples_split=4, clf__n_estimators=10, total=   7.8s\n",
      "[CV] clf__max_depth=9, clf__max_features=sqrt, clf__min_samples_split=4, clf__n_estimators=10 \n",
      "[CV]  clf__max_depth=9, clf__max_features=sqrt, clf__min_samples_split=4, clf__n_estimators=10, total=   7.9s\n",
      "[CV] clf__max_depth=9, clf__max_features=sqrt, clf__min_samples_split=4, clf__n_estimators=10 \n",
      "[CV]  clf__max_depth=9, clf__max_features=sqrt, clf__min_samples_split=4, clf__n_estimators=10, total=   7.5s\n",
      "[CV] clf__max_depth=9, clf__max_features=sqrt, clf__min_samples_split=8, clf__n_estimators=10 \n",
      "[CV]  clf__max_depth=9, clf__max_features=sqrt, clf__min_samples_split=8, clf__n_estimators=10, total=   7.5s\n",
      "[CV] clf__max_depth=9, clf__max_features=sqrt, clf__min_samples_split=8, clf__n_estimators=10 \n",
      "[CV]  clf__max_depth=9, clf__max_features=sqrt, clf__min_samples_split=8, clf__n_estimators=10, total=   7.4s\n",
      "[CV] clf__max_depth=9, clf__max_features=sqrt, clf__min_samples_split=8, clf__n_estimators=10 \n",
      "[CV]  clf__max_depth=9, clf__max_features=sqrt, clf__min_samples_split=8, clf__n_estimators=10, total=   7.7s\n",
      "[CV] clf__max_depth=None, clf__max_features=None, clf__min_samples_split=2, clf__n_estimators=10 \n",
      "[CV]  clf__max_depth=None, clf__max_features=None, clf__min_samples_split=2, clf__n_estimators=10, total= 2.7min\n",
      "[CV] clf__max_depth=None, clf__max_features=None, clf__min_samples_split=2, clf__n_estimators=10 \n",
      "[CV]  clf__max_depth=None, clf__max_features=None, clf__min_samples_split=2, clf__n_estimators=10, total= 2.7min\n",
      "[CV] clf__max_depth=None, clf__max_features=None, clf__min_samples_split=2, clf__n_estimators=10 \n",
      "[CV]  clf__max_depth=None, clf__max_features=None, clf__min_samples_split=2, clf__n_estimators=10, total= 2.5min\n",
      "[CV] clf__max_depth=None, clf__max_features=None, clf__min_samples_split=4, clf__n_estimators=10 \n",
      "[CV]  clf__max_depth=None, clf__max_features=None, clf__min_samples_split=4, clf__n_estimators=10, total= 2.6min\n",
      "[CV] clf__max_depth=None, clf__max_features=None, clf__min_samples_split=4, clf__n_estimators=10 \n",
      "[CV]  clf__max_depth=None, clf__max_features=None, clf__min_samples_split=4, clf__n_estimators=10, total= 2.7min\n",
      "[CV] clf__max_depth=None, clf__max_features=None, clf__min_samples_split=4, clf__n_estimators=10 \n"
     ]
    },
    {
     "name": "stdout",
     "output_type": "stream",
     "text": [
      "[CV]  clf__max_depth=None, clf__max_features=None, clf__min_samples_split=4, clf__n_estimators=10, total= 2.4min\n",
      "[CV] clf__max_depth=None, clf__max_features=None, clf__min_samples_split=8, clf__n_estimators=10 \n",
      "[CV]  clf__max_depth=None, clf__max_features=None, clf__min_samples_split=8, clf__n_estimators=10, total= 2.6min\n",
      "[CV] clf__max_depth=None, clf__max_features=None, clf__min_samples_split=8, clf__n_estimators=10 \n",
      "[CV]  clf__max_depth=None, clf__max_features=None, clf__min_samples_split=8, clf__n_estimators=10, total= 2.5min\n",
      "[CV] clf__max_depth=None, clf__max_features=None, clf__min_samples_split=8, clf__n_estimators=10 \n",
      "[CV]  clf__max_depth=None, clf__max_features=None, clf__min_samples_split=8, clf__n_estimators=10, total= 2.3min\n",
      "[CV] clf__max_depth=None, clf__max_features=sqrt, clf__min_samples_split=2, clf__n_estimators=10 \n",
      "[CV]  clf__max_depth=None, clf__max_features=sqrt, clf__min_samples_split=2, clf__n_estimators=10, total=  12.3s\n",
      "[CV] clf__max_depth=None, clf__max_features=sqrt, clf__min_samples_split=2, clf__n_estimators=10 \n",
      "[CV]  clf__max_depth=None, clf__max_features=sqrt, clf__min_samples_split=2, clf__n_estimators=10, total=  12.2s\n",
      "[CV] clf__max_depth=None, clf__max_features=sqrt, clf__min_samples_split=2, clf__n_estimators=10 \n",
      "[CV]  clf__max_depth=None, clf__max_features=sqrt, clf__min_samples_split=2, clf__n_estimators=10, total=  12.2s\n",
      "[CV] clf__max_depth=None, clf__max_features=sqrt, clf__min_samples_split=4, clf__n_estimators=10 \n",
      "[CV]  clf__max_depth=None, clf__max_features=sqrt, clf__min_samples_split=4, clf__n_estimators=10, total=  11.0s\n",
      "[CV] clf__max_depth=None, clf__max_features=sqrt, clf__min_samples_split=4, clf__n_estimators=10 \n",
      "[CV]  clf__max_depth=None, clf__max_features=sqrt, clf__min_samples_split=4, clf__n_estimators=10, total=  11.0s\n",
      "[CV] clf__max_depth=None, clf__max_features=sqrt, clf__min_samples_split=4, clf__n_estimators=10 \n",
      "[CV]  clf__max_depth=None, clf__max_features=sqrt, clf__min_samples_split=4, clf__n_estimators=10, total=  10.9s\n",
      "[CV] clf__max_depth=None, clf__max_features=sqrt, clf__min_samples_split=8, clf__n_estimators=10 \n",
      "[CV]  clf__max_depth=None, clf__max_features=sqrt, clf__min_samples_split=8, clf__n_estimators=10, total=  10.4s\n",
      "[CV] clf__max_depth=None, clf__max_features=sqrt, clf__min_samples_split=8, clf__n_estimators=10 \n",
      "[CV]  clf__max_depth=None, clf__max_features=sqrt, clf__min_samples_split=8, clf__n_estimators=10, total=  10.4s\n",
      "[CV] clf__max_depth=None, clf__max_features=sqrt, clf__min_samples_split=8, clf__n_estimators=10 \n",
      "[CV]  clf__max_depth=None, clf__max_features=sqrt, clf__min_samples_split=8, clf__n_estimators=10, total=  10.4s\n"
     ]
    },
    {
     "name": "stderr",
     "output_type": "stream",
     "text": [
      "[Parallel(n_jobs=1)]: Done  54 out of  54 | elapsed: 36.3min finished\n"
     ]
    },
    {
     "data": {
      "text/plain": [
       "GridSearchCV(cv='warn', error_score='raise-deprecating',\n",
       "       estimator=Pipeline(memory=None,\n",
       "     steps=[('features', FeatureUnion(n_jobs=None,\n",
       "       transformer_list=[('text_pipeline', Pipeline(memory=None,\n",
       "     steps=[('colsel', ColumnSelector(columns='message')), ('vect', CountVectorizer(analyzer='word', binary=False, decode_error='strict',\n",
       "        dtype=<class 'numpy.int64'>, encoding='utf-...obs=None,\n",
       "            oob_score=False, random_state=None, verbose=0,\n",
       "            warm_start=False))]),\n",
       "       fit_params=None, iid='warn', n_jobs=1,\n",
       "       param_grid={'clf__n_estimators': [10], 'clf__min_samples_split': [2, 4, 8], 'clf__max_depth': [3, 9, None], 'clf__max_features': [None, 'sqrt']},\n",
       "       pre_dispatch='2*n_jobs', refit=True, return_train_score='warn',\n",
       "       scoring=make_scorer(multi_accuracy_score), verbose=2)"
      ]
     },
     "execution_count": 63,
     "metadata": {},
     "output_type": "execute_result"
    }
   ],
   "source": [
    "model = model_pipeline()\n",
    "\n",
    "parameters = {\n",
    "#    'features__text_pipeline__vect__ngram_range': ((1, 1), (1, 2)),\n",
    "#    'features__text_pipeline__vect__max_df': (0.5, 0.75, 1.0),\n",
    "#    'features__text_pipeline__vect__max_features': (None, 1000, 5000,10000),\n",
    "#    'features__text_pipeline__tfidf__use_idf': (True, False),\n",
    "    'clf__n_estimators': [10],\n",
    "    'clf__min_samples_split': [2, 4, 8],\n",
    "    'clf__max_depth': [3, 9, None],\n",
    "    'clf__max_features': [None, 'sqrt']\n",
    "#    'features__transformer_weights': (\n",
    "#        {'text_pipeline': 1, 'categ_pipeline': 0.5},\n",
    "#        {'text_pipeline': 0.5, 'categ_pipeline': 1},\n",
    "#        {'text_pipeline': 0.8, 'categ_pipeline': 1},\n",
    "#    )\n",
    "}\n",
    "\n",
    "scorer = make_scorer(mean_squared_error, greater_is_better = False)\n",
    "\n",
    "scorer = make_scorer(multi_accuracy_score, greater_is_better = True)\n",
    "\n",
    "cv = GridSearchCV(model, param_grid=parameters, scoring = scorer,verbose = 2, n_jobs = 1)\n",
    "\n",
    "cv.fit(X_train, y_train)"
   ]
  },
  {
   "cell_type": "code",
   "execution_count": 64,
   "metadata": {},
   "outputs": [
    {
     "name": "stdout",
     "output_type": "stream",
     "text": [
      "RandomForestClassifier(bootstrap=True, class_weight=None, criterion='gini',\n",
      "            max_depth=None, max_features=None, max_leaf_nodes=None,\n",
      "            min_impurity_decrease=0.0, min_impurity_split=None,\n",
      "            min_samples_leaf=1, min_samples_split=8,\n",
      "            min_weight_fraction_leaf=0.0, n_estimators=10, n_jobs=None,\n",
      "            oob_score=False, random_state=None, verbose=0,\n",
      "            warm_start=False)\n"
     ]
    }
   ],
   "source": [
    "print(cv.best_estimator_.named_steps.clf)"
   ]
  },
  {
   "cell_type": "markdown",
   "metadata": {},
   "source": [
    "### 7. Test your model\n",
    "Show the accuracy, precision, and recall of the tuned model.  \n",
    "\n",
    "Since this project focuses on code quality, process, and  pipelines, there is no minimum performance metric needed to pass. However, make sure to fine tune your models for accuracy, precision and recall to make your project stand out - especially for your portfolio!"
   ]
  },
  {
   "cell_type": "code",
   "execution_count": 65,
   "metadata": {},
   "outputs": [
    {
     "name": "stdout",
     "output_type": "stream",
     "text": [
      "0.9472078120231919\n"
     ]
    }
   ],
   "source": [
    "y_pred_cv = cv.best_estimator_.predict(X_test)\n",
    "print((y_pred_cv == y_test).mean().mean())"
   ]
  },
  {
   "cell_type": "markdown",
   "metadata": {},
   "source": [
    "### 8. Try improving your model further. Here are a few ideas:\n",
    "* try other machine learning algorithms\n",
    "* add other features besides the TF-IDF"
   ]
  },
  {
   "cell_type": "code",
   "execution_count": null,
   "metadata": {},
   "outputs": [],
   "source": []
  },
  {
   "cell_type": "markdown",
   "metadata": {},
   "source": [
    "### 9. Export your model as a pickle file"
   ]
  },
  {
   "cell_type": "code",
   "execution_count": null,
   "metadata": {},
   "outputs": [],
   "source": []
  },
  {
   "cell_type": "markdown",
   "metadata": {},
   "source": [
    "### 10. Use this notebook to complete `train.py`\n",
    "Use the template file attached in the Resources folder to write a script that runs the steps above to create a database and export a model based on a new dataset specified by the user."
   ]
  },
  {
   "cell_type": "code",
   "execution_count": null,
   "metadata": {},
   "outputs": [],
   "source": []
  }
 ],
 "metadata": {
  "kernelspec": {
   "display_name": "Python 3",
   "language": "python",
   "name": "python3"
  },
  "language_info": {
   "codemirror_mode": {
    "name": "ipython",
    "version": 3
   },
   "file_extension": ".py",
   "mimetype": "text/x-python",
   "name": "python",
   "nbconvert_exporter": "python",
   "pygments_lexer": "ipython3",
   "version": "3.6.7"
  }
 },
 "nbformat": 4,
 "nbformat_minor": 2
}
